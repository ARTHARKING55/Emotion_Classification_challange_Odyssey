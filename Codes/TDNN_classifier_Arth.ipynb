{
  "cells": [
    {
      "cell_type": "code",
      "execution_count": 1,
      "id": "017ab035",
      "metadata": {
        "execution": {
          "iopub.execute_input": "2023-06-24T10:24:34.097933Z",
          "iopub.status.busy": "2023-06-24T10:24:34.096796Z",
          "iopub.status.idle": "2023-06-24T10:24:37.332288Z",
          "shell.execute_reply": "2023-06-24T10:24:37.331165Z"
        },
        "id": "017ab035",
        "papermill": {
          "duration": 3.247655,
          "end_time": "2023-06-24T10:24:37.335142",
          "exception": false,
          "start_time": "2023-06-24T10:24:34.087487",
          "status": "completed"
        },
        "tags": []
      },
      "outputs": [
        {
          "name": "stderr",
          "output_type": "stream",
          "text": [
            "c:\\Users\\admin\\AppData\\Local\\Programs\\Python\\Python310\\lib\\site-packages\\tqdm\\auto.py:22: TqdmWarning: IProgress not found. Please update jupyter and ipywidgets. See https://ipywidgets.readthedocs.io/en/stable/user_install.html\n",
            "  from .autonotebook import tqdm as notebook_tqdm\n"
          ]
        }
      ],
      "source": [
        "import torch\n",
        "import torch.nn as nn\n",
        "import torch.nn.functional as F\n",
        "from torch.autograd import Variable\n",
        "from torch.utils.data import Dataset, DataLoader\n",
        "\n",
        "import os, pathlib, glob, random\n",
        "import numpy as np\n",
        "import matplotlib.pyplot as plt\n",
        "\n",
        "from sklearn.metrics import confusion_matrix\n",
        "import scipy"
      ]
    },
    {
      "cell_type": "code",
      "execution_count": 2,
      "id": "c9738c37",
      "metadata": {
        "execution": {
          "iopub.execute_input": "2023-06-24T10:24:37.350704Z",
          "iopub.status.busy": "2023-06-24T10:24:37.349565Z",
          "iopub.status.idle": "2023-06-24T10:24:37.414910Z",
          "shell.execute_reply": "2023-06-24T10:24:37.413780Z"
        },
        "id": "c9738c37",
        "outputId": "bf9036dd-332a-4110-e6d7-329470b15de7",
        "papermill": {
          "duration": 0.075621,
          "end_time": "2023-06-24T10:24:37.417651",
          "exception": false,
          "start_time": "2023-06-24T10:24:37.342030",
          "status": "completed"
        },
        "tags": []
      },
      "outputs": [
        {
          "name": "stdout",
          "output_type": "stream",
          "text": [
            "cpu\n"
          ]
        }
      ],
      "source": [
        "device = torch.device('cuda' if torch.cuda.is_available() else 'cpu')\n",
        "print(device)"
      ]
    },
    {
      "cell_type": "code",
      "execution_count": 3,
      "id": "efd88e88",
      "metadata": {
        "execution": {
          "iopub.execute_input": "2023-06-24T10:24:37.432922Z",
          "iopub.status.busy": "2023-06-24T10:24:37.431967Z",
          "iopub.status.idle": "2023-06-24T10:24:37.437265Z",
          "shell.execute_reply": "2023-06-24T10:24:37.436276Z"
        },
        "id": "efd88e88",
        "papermill": {
          "duration": 0.015302,
          "end_time": "2023-06-24T10:24:37.439570",
          "exception": false,
          "start_time": "2023-06-24T10:24:37.424268",
          "status": "completed"
        },
        "tags": []
      },
      "outputs": [],
      "source": [
        "batch_size = 32\n",
        "output_nodes = 8\n",
        "learning_rate = 0.01"
      ]
    },
    {
      "cell_type": "code",
      "execution_count": 4,
      "id": "243f2faf",
      "metadata": {
        "execution": {
          "iopub.execute_input": "2023-06-24T10:24:37.453789Z",
          "iopub.status.busy": "2023-06-24T10:24:37.453474Z",
          "iopub.status.idle": "2023-06-24T10:24:37.457925Z",
          "shell.execute_reply": "2023-06-24T10:24:37.456846Z"
        },
        "id": "243f2faf",
        "papermill": {
          "duration": 0.014212,
          "end_time": "2023-06-24T10:24:37.460220",
          "exception": false,
          "start_time": "2023-06-24T10:24:37.446008",
          "status": "completed"
        },
        "tags": []
      },
      "outputs": [],
      "source": [
        "train_data_path = r\"C:\\Users\\admin\\Desktop\\ARTH SHAH\\Emotion Challange Dataset\\LP_EMO_Challenge\\LP_06\\Train\"\n",
        "val_data_path=r\"C:\\Users\\admin\\Desktop\\ARTH SHAH\\Emotion Challange Dataset\\LP_EMO_Challenge\\LP_06\\Val\"\n",
        "test_data_path = r\"C:\\Users\\admin\\Desktop\\ARTH SHAH\\Emotion Challange Dataset\\LP_EMO_Challenge\\LP_06\\Test\""
      ]
    },
    {
      "cell_type": "code",
      "execution_count": 21,
      "id": "4dcd49ce",
      "metadata": {
        "execution": {
          "iopub.execute_input": "2023-06-24T10:24:37.474756Z",
          "iopub.status.busy": "2023-06-24T10:24:37.473858Z",
          "iopub.status.idle": "2023-06-24T10:24:37.487128Z",
          "shell.execute_reply": "2023-06-24T10:24:37.486164Z"
        },
        "id": "4dcd49ce",
        "papermill": {
          "duration": 0.022981,
          "end_time": "2023-06-24T10:24:37.489499",
          "exception": false,
          "start_time": "2023-06-24T10:24:37.466518",
          "status": "completed"
        },
        "tags": []
      },
      "outputs": [],
      "source": [
        "class PtDataset(Dataset):\n",
        "    def __init__(self, directory):\n",
        "        self.directory = directory\n",
        "        self.classes = sorted(entry.name for entry in os.scandir(directory) if entry.is_dir())\n",
        "        self.class_to_idx = {c: i for i, c in enumerate(self.classes)}\n",
        "        self.files = []\n",
        "        for c in self.classes:\n",
        "            c_dir = os.path.join(directory, c)\n",
        "            c_files = [(os.path.join(c_dir, f), self.class_to_idx[c]) for f in os.listdir(c_dir)]\n",
        "            self.files.extend(c_files)\n",
        "        random.shuffle(self.files)\n",
        "\n",
        "    def __len__(self):\n",
        "        return len(self.files)\n",
        "\n",
        "    def __getitem__(self, idx):\n",
        "        filepath, label = self.files[idx]\n",
        "        try:\n",
        "            mat_vals = scipy.io.loadmat(filepath)\n",
        "            data = mat_vals['final']\n",
        "            data=data.T\n",
        "            max_len=900\n",
        "            if (max_len > data.shape[0]):\n",
        "                pad_width = max_len - data.shape[0]\n",
        "                data = np.pad(data, pad_width=((0, pad_width),(0,0)), mode='constant')\n",
        "            else:\n",
        "                data = data[:max_len, :]\n",
        "        except Exception as e:\n",
        "            print(f\"Error loading file {filepath}: {str(e)}\")\n",
        "            return None\n",
        "        return data, label"
      ]
    },
    {
      "cell_type": "code",
      "execution_count": 22,
      "id": "a0724f46",
      "metadata": {
        "execution": {
          "iopub.execute_input": "2023-06-24T10:24:37.503548Z",
          "iopub.status.busy": "2023-06-24T10:24:37.503220Z",
          "iopub.status.idle": "2023-06-24T10:24:38.263899Z",
          "shell.execute_reply": "2023-06-24T10:24:38.262812Z"
        },
        "id": "a0724f46",
        "papermill": {
          "duration": 0.770805,
          "end_time": "2023-06-24T10:24:38.266668",
          "exception": false,
          "start_time": "2023-06-24T10:24:37.495863",
          "status": "completed"
        },
        "tags": []
      },
      "outputs": [],
      "source": [
        "train_dataset = PtDataset(train_data_path)\n",
        "val_dataset = PtDataset(val_data_path)\n",
        "test_dataset = PtDataset(test_data_path)"
      ]
    },
    {
      "cell_type": "code",
      "execution_count": 23,
      "id": "ab0f68c6",
      "metadata": {
        "execution": {
          "iopub.execute_input": "2023-06-24T10:24:38.281434Z",
          "iopub.status.busy": "2023-06-24T10:24:38.281100Z",
          "iopub.status.idle": "2023-06-24T10:24:38.286950Z",
          "shell.execute_reply": "2023-06-24T10:24:38.285845Z"
        },
        "id": "ab0f68c6",
        "papermill": {
          "duration": 0.015785,
          "end_time": "2023-06-24T10:24:38.289178",
          "exception": false,
          "start_time": "2023-06-24T10:24:38.273393",
          "status": "completed"
        },
        "tags": []
      },
      "outputs": [],
      "source": [
        "class PtDataLoader(DataLoader):\n",
        "    def __init__(self, directory, batch_size, shuffle=True):\n",
        "        dataset = PtDataset(directory)\n",
        "        super().__init__(dataset, batch_size=batch_size, shuffle=shuffle)"
      ]
    },
    {
      "cell_type": "code",
      "execution_count": 24,
      "id": "189c1fa1",
      "metadata": {
        "execution": {
          "iopub.execute_input": "2023-06-24T10:24:38.304968Z",
          "iopub.status.busy": "2023-06-24T10:24:38.303949Z",
          "iopub.status.idle": "2023-06-24T10:24:38.404597Z",
          "shell.execute_reply": "2023-06-24T10:24:38.403504Z"
        },
        "id": "189c1fa1",
        "papermill": {
          "duration": 0.11168,
          "end_time": "2023-06-24T10:24:38.407615",
          "exception": false,
          "start_time": "2023-06-24T10:24:38.295935",
          "status": "completed"
        },
        "tags": []
      },
      "outputs": [],
      "source": [
        "train_dataloader = PtDataLoader(directory=train_data_path, batch_size=batch_size)\n",
        "val_dataloader = PtDataLoader(directory=val_data_path, batch_size=batch_size)\n",
        "test_dataloader = PtDataLoader(directory=test_data_path, batch_size=batch_size)"
      ]
    },
    {
      "cell_type": "code",
      "execution_count": 25,
      "id": "03701739",
      "metadata": {
        "execution": {
          "iopub.execute_input": "2023-06-24T10:24:38.422683Z",
          "iopub.status.busy": "2023-06-24T10:24:38.422266Z",
          "iopub.status.idle": "2023-06-24T10:24:38.427354Z",
          "shell.execute_reply": "2023-06-24T10:24:38.426318Z"
        },
        "id": "03701739",
        "papermill": {
          "duration": 0.01471,
          "end_time": "2023-06-24T10:24:38.429559",
          "exception": false,
          "start_time": "2023-06-24T10:24:38.414849",
          "status": "completed"
        },
        "tags": []
      },
      "outputs": [],
      "source": [
        "train_count = len(train_dataset)\n",
        "val_count = len(val_dataset)\n",
        "test_count = len(test_dataset)"
      ]
    },
    {
      "cell_type": "code",
      "execution_count": 26,
      "id": "8eb6a1c6",
      "metadata": {},
      "outputs": [
        {
          "name": "stdout",
          "output_type": "stream",
          "text": [
            "15341\n"
          ]
        }
      ],
      "source": [
        "print(val_count)"
      ]
    },
    {
      "cell_type": "code",
      "execution_count": 27,
      "id": "600a896f",
      "metadata": {
        "execution": {
          "iopub.execute_input": "2023-06-24T10:24:38.444694Z",
          "iopub.status.busy": "2023-06-24T10:24:38.444087Z",
          "iopub.status.idle": "2023-06-24T10:24:38.457569Z",
          "shell.execute_reply": "2023-06-24T10:24:38.456501Z"
        },
        "id": "600a896f",
        "papermill": {
          "duration": 0.023851,
          "end_time": "2023-06-24T10:24:38.459829",
          "exception": false,
          "start_time": "2023-06-24T10:24:38.435978",
          "status": "completed"
        },
        "tags": []
      },
      "outputs": [],
      "source": [
        "class TDNN(nn.Module):\n",
        "\n",
        "    def __init__(\n",
        "                    self,\n",
        "                    input_dim,\n",
        "                    output_dim,\n",
        "                    context_size=5,\n",
        "                    stride=1,\n",
        "                    dilation=1,\n",
        "                    batch_norm=False,\n",
        "                    dropout_p=0.2\n",
        "                ):\n",
        "        super(TDNN, self).__init__()\n",
        "        self.context_size = context_size\n",
        "        self.stride = stride\n",
        "        self.input_dim = input_dim\n",
        "        self.output_dim = output_dim\n",
        "        self.dilation = dilation\n",
        "        self.dropout_p = dropout_p\n",
        "        self.batch_norm = batch_norm\n",
        "\n",
        "        self.kernel = nn.Linear(input_dim*context_size, output_dim)\n",
        "        self.nonlinearity = nn.ReLU()\n",
        "        if self.batch_norm:\n",
        "            self.bn = nn.BatchNorm1d(output_dim)\n",
        "        if self.dropout_p:\n",
        "            self.drop = nn.Dropout(p=self.dropout_p)\n",
        "\n",
        "    def forward(self, x):\n",
        "        '''\n",
        "        input: size (batch, seq_len, input_features)\n",
        "        outpu: size (batch, new_seq_len, output_features)\n",
        "        '''\n",
        "\n",
        "        _, _, d = x.shape\n",
        "        assert (d == self.input_dim), 'Input dimension was wrong. Expected ({}), got ({})'.format(self.input_dim, d)\n",
        "        x = x.unsqueeze(1)\n",
        "\n",
        "        # Unfold input into smaller temporal contexts\n",
        "        x = F.unfold(\n",
        "                        x,\n",
        "                        (self.context_size, self.input_dim),\n",
        "                        stride=(1,self.input_dim),\n",
        "                        dilation=(self.dilation,1)\n",
        "                    )\n",
        "\n",
        "        # N, output_dim*context_size, new_t = x.shape\n",
        "        x = x.transpose(1,2)\n",
        "        x = self.kernel(x.float())\n",
        "        x = self.nonlinearity(x)\n",
        "\n",
        "        if self.dropout_p:\n",
        "            x = self.drop(x)\n",
        "\n",
        "        if self.batch_norm:\n",
        "            x = x.transpose(1,2)\n",
        "            x = self.bn(x)\n",
        "            x = x.transpose(1,2)\n",
        "\n",
        "        return x"
      ]
    },
    {
      "cell_type": "code",
      "execution_count": 28,
      "id": "2d1d9bca",
      "metadata": {
        "execution": {
          "iopub.execute_input": "2023-06-24T10:24:38.475759Z",
          "iopub.status.busy": "2023-06-24T10:24:38.474139Z",
          "iopub.status.idle": "2023-06-24T10:24:38.484433Z",
          "shell.execute_reply": "2023-06-24T10:24:38.483298Z"
        },
        "id": "2d1d9bca",
        "papermill": {
          "duration": 0.020361,
          "end_time": "2023-06-24T10:24:38.486771",
          "exception": false,
          "start_time": "2023-06-24T10:24:38.466410",
          "status": "completed"
        },
        "tags": []
      },
      "outputs": [],
      "source": [
        "import torch\n",
        "from torch import nn\n",
        "from torch.nn import Parameter\n",
        "import torch.nn.functional as F\n",
        "\n",
        "class Classic_Attention(nn.Module):\n",
        "    def __init__(self,input_dim, embed_dim, attn_dropout=0.0):\n",
        "        super().__init__()\n",
        "        self.embed_dim = embed_dim\n",
        "        self.attn_dropout = attn_dropout\n",
        "        self.lin_proj = nn.Linear(input_dim,embed_dim)\n",
        "        self.v = torch.nn.Parameter(torch.randn(embed_dim))\n",
        "\n",
        "    def forward(self,inputs):\n",
        "        lin_out = self.lin_proj(inputs)\n",
        "        v_view = self.v.unsqueeze(0).expand(lin_out.size(0), len(self.v)).unsqueeze(2)\n",
        "        attention_weights = torch.tanh(lin_out.bmm(v_view).squeeze(2))\n",
        "        attention_weights_normalized = F.softmax(attention_weights,1)\n",
        "        return attention_weights_normalized"
      ]
    },
    {
      "cell_type": "code",
      "execution_count": 29,
      "id": "0c721180",
      "metadata": {
        "execution": {
          "iopub.execute_input": "2023-06-24T10:24:38.501426Z",
          "iopub.status.busy": "2023-06-24T10:24:38.501124Z",
          "iopub.status.idle": "2023-06-24T10:24:38.517224Z",
          "shell.execute_reply": "2023-06-24T10:24:38.516152Z"
        },
        "id": "0c721180",
        "papermill": {
          "duration": 0.026331,
          "end_time": "2023-06-24T10:24:38.519577",
          "exception": false,
          "start_time": "2023-06-24T10:24:38.493246",
          "status": "completed"
        },
        "tags": []
      },
      "outputs": [],
      "source": [
        "class Convnet(nn.Module):\n",
        "    def __init__(self, input_dim = 20, num_classes=8):\n",
        "        super(Convnet, self).__init__()\n",
        "        ## Frame level feature processing\n",
        "        self.tdnn1 = TDNN(input_dim=20, output_dim=512, context_size=5, dilation=1,dropout_p=0.2)\n",
        "        self.tdnn2 = TDNN(input_dim=512, output_dim=512, context_size=5, dilation=2,dropout_p=0.2)\n",
        "        self.tdnn3 = TDNN(input_dim=512, output_dim=512, context_size=7, dilation=3,dropout_p=0.2)\n",
        "        self.tdnn4 = TDNN(input_dim=512, output_dim=512, context_size=1, dilation=1,dropout_p=0.2)\n",
        "        self.tdnn5 = TDNN(input_dim=512, output_dim=512, context_size=1, dilation=1,dropout_p=0.2)\n",
        "        ### Statistics attentive pooling\n",
        "        self.attention = Classic_Attention(512,512)\n",
        "        #### Frame levelPooling\n",
        "        self.segment6 = nn.Linear(1024, 512)\n",
        "        self.segment7 = nn.Linear(512,512 )\n",
        "        self.output = nn.Linear(512, num_classes)\n",
        "        self.softmax = nn.Softmax(dim=1)\n",
        "\n",
        "    def weighted_sd(self,inputs,attention_weights, mean):\n",
        "        el_mat_prod = torch.mul(inputs,attention_weights.unsqueeze(2).expand(-1,-1,inputs.shape[-1]))\n",
        "        hadmard_prod = torch.mul(inputs,el_mat_prod)\n",
        "        variance = torch.sum(hadmard_prod,1) - torch.mul(mean,mean)\n",
        "        return variance\n",
        "\n",
        "\n",
        "    def stat_attn_pool(self,inputs,attention_weights):\n",
        "        el_mat_prod = torch.mul(inputs,attention_weights.unsqueeze(2).expand(-1,-1,inputs.shape[-1]))\n",
        "        mean = torch.mean(el_mat_prod,1)\n",
        "        variance = self.weighted_sd(inputs,attention_weights,mean)\n",
        "        stat_pooling = torch.cat((mean,variance),1)\n",
        "        return stat_pooling\n",
        "\n",
        "\n",
        "    def forward(self, inputs):\n",
        "        tdnn1_out = self.tdnn1(inputs)\n",
        "        tdnn2_out = self.tdnn2(tdnn1_out)\n",
        "        tdnn3_out = self.tdnn3(tdnn2_out)\n",
        "        tdnn4_out = self.tdnn4(tdnn3_out)\n",
        "        tdnn5_out = self.tdnn5(tdnn4_out)\n",
        "        ### Stat Pool\n",
        "        attn_weights = self.attention(tdnn5_out)\n",
        "        stat_pool_out = self.stat_attn_pool(tdnn5_out,attn_weights)\n",
        "        segment6_out = self.segment6(stat_pool_out)\n",
        "        x_vec = self.segment7(segment6_out)\n",
        "        predictions = self.output(x_vec)\n",
        "        return predictions,x_vec"
      ]
    },
    {
      "cell_type": "code",
      "execution_count": 30,
      "id": "ae9e5781",
      "metadata": {
        "execution": {
          "iopub.execute_input": "2023-06-24T10:24:38.534382Z",
          "iopub.status.busy": "2023-06-24T10:24:38.533393Z",
          "iopub.status.idle": "2023-06-24T10:24:41.349365Z",
          "shell.execute_reply": "2023-06-24T10:24:41.348201Z"
        },
        "id": "ae9e5781",
        "papermill": {
          "duration": 2.826347,
          "end_time": "2023-06-24T10:24:41.352326",
          "exception": false,
          "start_time": "2023-06-24T10:24:38.525979",
          "status": "completed"
        },
        "tags": []
      },
      "outputs": [],
      "source": [
        "model = Convnet().to(device)"
      ]
    },
    {
      "cell_type": "code",
      "execution_count": 31,
      "id": "6b673201",
      "metadata": {
        "execution": {
          "iopub.execute_input": "2023-06-24T10:24:41.368501Z",
          "iopub.status.busy": "2023-06-24T10:24:41.366768Z",
          "iopub.status.idle": "2023-06-24T10:24:41.373466Z",
          "shell.execute_reply": "2023-06-24T10:24:41.372482Z"
        },
        "id": "6b673201",
        "papermill": {
          "duration": 0.016784,
          "end_time": "2023-06-24T10:24:41.375844",
          "exception": false,
          "start_time": "2023-06-24T10:24:41.359060",
          "status": "completed"
        },
        "tags": []
      },
      "outputs": [],
      "source": [
        "loss_function = nn.CrossEntropyLoss()\n",
        "optimizer = torch.optim.SGD(model.parameters(), lr=learning_rate, momentum=0.9)"
      ]
    },
    {
      "cell_type": "code",
      "execution_count": 32,
      "id": "916f1c09",
      "metadata": {
        "execution": {
          "iopub.execute_input": "2023-06-24T10:24:41.391957Z",
          "iopub.status.busy": "2023-06-24T10:24:41.391298Z",
          "iopub.status.idle": "2023-06-24T10:24:41.423047Z",
          "shell.execute_reply": "2023-06-24T10:24:41.421996Z"
        },
        "id": "916f1c09",
        "papermill": {
          "duration": 0.043357,
          "end_time": "2023-06-24T10:24:41.425670",
          "exception": false,
          "start_time": "2023-06-24T10:24:41.382313",
          "status": "completed"
        },
        "tags": []
      },
      "outputs": [],
      "source": [
        "import scipy\n",
        "from scipy import io"
      ]
    },
    {
      "cell_type": "code",
      "execution_count": 33,
      "id": "18776f4a",
      "metadata": {
        "execution": {
          "iopub.execute_input": "2023-06-24T10:24:41.439992Z",
          "iopub.status.busy": "2023-06-24T10:24:41.439670Z",
          "iopub.status.idle": "2023-06-24T10:24:41.445208Z",
          "shell.execute_reply": "2023-06-24T10:24:41.444163Z"
        },
        "id": "18776f4a",
        "outputId": "068acd4b-677e-47c0-98c2-019bf8a5d2ae",
        "papermill": {
          "duration": 0.016392,
          "end_time": "2023-06-24T10:24:41.448612",
          "exception": false,
          "start_time": "2023-06-24T10:24:41.432220",
          "status": "completed"
        },
        "tags": []
      },
      "outputs": [
        {
          "name": "stdout",
          "output_type": "stream",
          "text": [
            "Convnet(\n",
            "  (tdnn1): TDNN(\n",
            "    (kernel): Linear(in_features=100, out_features=512, bias=True)\n",
            "    (nonlinearity): ReLU()\n",
            "    (drop): Dropout(p=0.2, inplace=False)\n",
            "  )\n",
            "  (tdnn2): TDNN(\n",
            "    (kernel): Linear(in_features=2560, out_features=512, bias=True)\n",
            "    (nonlinearity): ReLU()\n",
            "    (drop): Dropout(p=0.2, inplace=False)\n",
            "  )\n",
            "  (tdnn3): TDNN(\n",
            "    (kernel): Linear(in_features=3584, out_features=512, bias=True)\n",
            "    (nonlinearity): ReLU()\n",
            "    (drop): Dropout(p=0.2, inplace=False)\n",
            "  )\n",
            "  (tdnn4): TDNN(\n",
            "    (kernel): Linear(in_features=512, out_features=512, bias=True)\n",
            "    (nonlinearity): ReLU()\n",
            "    (drop): Dropout(p=0.2, inplace=False)\n",
            "  )\n",
            "  (tdnn5): TDNN(\n",
            "    (kernel): Linear(in_features=512, out_features=512, bias=True)\n",
            "    (nonlinearity): ReLU()\n",
            "    (drop): Dropout(p=0.2, inplace=False)\n",
            "  )\n",
            "  (attention): Classic_Attention(\n",
            "    (lin_proj): Linear(in_features=512, out_features=512, bias=True)\n",
            "  )\n",
            "  (segment6): Linear(in_features=1024, out_features=512, bias=True)\n",
            "  (segment7): Linear(in_features=512, out_features=512, bias=True)\n",
            "  (output): Linear(in_features=512, out_features=8, bias=True)\n",
            "  (softmax): Softmax(dim=1)\n",
            ")\n"
          ]
        }
      ],
      "source": [
        "print(model)"
      ]
    },
    {
      "cell_type": "code",
      "execution_count": 34,
      "id": "a59d6a58",
      "metadata": {
        "execution": {
          "iopub.execute_input": "2023-06-24T10:24:41.463737Z",
          "iopub.status.busy": "2023-06-24T10:24:41.463419Z",
          "iopub.status.idle": "2023-06-24T17:51:47.040025Z",
          "shell.execute_reply": "2023-06-24T17:51:47.038877Z"
        },
        "id": "a59d6a58",
        "outputId": "c0436fc8-a36d-4d09-bb1f-95f59eef07f0",
        "papermill": {
          "duration": 26825.602763,
          "end_time": "2023-06-24T17:51:47.058417",
          "exception": false,
          "start_time": "2023-06-24T10:24:41.455654",
          "status": "completed"
        },
        "tags": []
      },
      "outputs": [
        {
          "name": "stdout",
          "output_type": "stream",
          "text": [
            "Epoch : 1/40   Train Loss : tensor(1.5665)   Train Accuracy : 0.4665080732776383   Val Accuracy : 0.3694022553940421\n",
            "Epoch : 2/40   Train Loss : tensor(1.5189)   Train Accuracy : 0.47023564230322557   Val Accuracy : 0.3694022553940421\n",
            "Epoch : 3/40   Train Loss : tensor(1.5148)   Train Accuracy : 0.47017944779530213   Val Accuracy : 0.3694022553940421\n",
            "Epoch : 4/40   Train Loss : tensor(1.5103)   Train Accuracy : 0.47014198479001984   Val Accuracy : 0.3694022553940421\n",
            "Epoch : 5/40   Train Loss : tensor(1.5072)   Train Accuracy : 0.4707975873824598   Val Accuracy : 0.3694022553940421\n"
          ]
        },
        {
          "ename": "KeyboardInterrupt",
          "evalue": "",
          "output_type": "error",
          "traceback": [
            "\u001b[1;31m---------------------------------------------------------------------------\u001b[0m",
            "\u001b[1;31mKeyboardInterrupt\u001b[0m                         Traceback (most recent call last)",
            "Cell \u001b[1;32mIn[34], line 25\u001b[0m\n\u001b[0;32m     23\u001b[0m \u001b[38;5;66;03m##images = images.unsqueeze(1)\u001b[39;00m\n\u001b[0;32m     24\u001b[0m optimizer\u001b[38;5;241m.\u001b[39mzero_grad()\n\u001b[1;32m---> 25\u001b[0m outputs\u001b[38;5;241m=\u001b[39m\u001b[43mmodel\u001b[49m\u001b[43m(\u001b[49m\u001b[43mimages\u001b[49m\u001b[43m)\u001b[49m\n\u001b[0;32m     26\u001b[0m outputs\u001b[38;5;241m=\u001b[39moutputs[\u001b[38;5;241m0\u001b[39m]\n\u001b[0;32m     27\u001b[0m loss\u001b[38;5;241m=\u001b[39mloss_function(outputs,labels)\n",
            "File \u001b[1;32mc:\\Users\\admin\\AppData\\Local\\Programs\\Python\\Python310\\lib\\site-packages\\torch\\nn\\modules\\module.py:1194\u001b[0m, in \u001b[0;36mModule._call_impl\u001b[1;34m(self, *input, **kwargs)\u001b[0m\n\u001b[0;32m   1190\u001b[0m \u001b[38;5;66;03m# If we don't have any hooks, we want to skip the rest of the logic in\u001b[39;00m\n\u001b[0;32m   1191\u001b[0m \u001b[38;5;66;03m# this function, and just call forward.\u001b[39;00m\n\u001b[0;32m   1192\u001b[0m \u001b[38;5;28;01mif\u001b[39;00m \u001b[38;5;129;01mnot\u001b[39;00m (\u001b[38;5;28mself\u001b[39m\u001b[38;5;241m.\u001b[39m_backward_hooks \u001b[38;5;129;01mor\u001b[39;00m \u001b[38;5;28mself\u001b[39m\u001b[38;5;241m.\u001b[39m_forward_hooks \u001b[38;5;129;01mor\u001b[39;00m \u001b[38;5;28mself\u001b[39m\u001b[38;5;241m.\u001b[39m_forward_pre_hooks \u001b[38;5;129;01mor\u001b[39;00m _global_backward_hooks\n\u001b[0;32m   1193\u001b[0m         \u001b[38;5;129;01mor\u001b[39;00m _global_forward_hooks \u001b[38;5;129;01mor\u001b[39;00m _global_forward_pre_hooks):\n\u001b[1;32m-> 1194\u001b[0m     \u001b[38;5;28;01mreturn\u001b[39;00m forward_call(\u001b[38;5;241m*\u001b[39m\u001b[38;5;28minput\u001b[39m, \u001b[38;5;241m*\u001b[39m\u001b[38;5;241m*\u001b[39mkwargs)\n\u001b[0;32m   1195\u001b[0m \u001b[38;5;66;03m# Do not call functions when jit is used\u001b[39;00m\n\u001b[0;32m   1196\u001b[0m full_backward_hooks, non_full_backward_hooks \u001b[38;5;241m=\u001b[39m [], []\n",
            "Cell \u001b[1;32mIn[29], line 36\u001b[0m, in \u001b[0;36mConvnet.forward\u001b[1;34m(self, inputs)\u001b[0m\n\u001b[0;32m     34\u001b[0m tdnn1_out \u001b[38;5;241m=\u001b[39m \u001b[38;5;28mself\u001b[39m\u001b[38;5;241m.\u001b[39mtdnn1(inputs)\n\u001b[0;32m     35\u001b[0m tdnn2_out \u001b[38;5;241m=\u001b[39m \u001b[38;5;28mself\u001b[39m\u001b[38;5;241m.\u001b[39mtdnn2(tdnn1_out)\n\u001b[1;32m---> 36\u001b[0m tdnn3_out \u001b[38;5;241m=\u001b[39m \u001b[38;5;28;43mself\u001b[39;49m\u001b[38;5;241;43m.\u001b[39;49m\u001b[43mtdnn3\u001b[49m\u001b[43m(\u001b[49m\u001b[43mtdnn2_out\u001b[49m\u001b[43m)\u001b[49m\n\u001b[0;32m     37\u001b[0m tdnn4_out \u001b[38;5;241m=\u001b[39m \u001b[38;5;28mself\u001b[39m\u001b[38;5;241m.\u001b[39mtdnn4(tdnn3_out)\n\u001b[0;32m     38\u001b[0m tdnn5_out \u001b[38;5;241m=\u001b[39m \u001b[38;5;28mself\u001b[39m\u001b[38;5;241m.\u001b[39mtdnn5(tdnn4_out)\n",
            "File \u001b[1;32mc:\\Users\\admin\\AppData\\Local\\Programs\\Python\\Python310\\lib\\site-packages\\torch\\nn\\modules\\module.py:1194\u001b[0m, in \u001b[0;36mModule._call_impl\u001b[1;34m(self, *input, **kwargs)\u001b[0m\n\u001b[0;32m   1190\u001b[0m \u001b[38;5;66;03m# If we don't have any hooks, we want to skip the rest of the logic in\u001b[39;00m\n\u001b[0;32m   1191\u001b[0m \u001b[38;5;66;03m# this function, and just call forward.\u001b[39;00m\n\u001b[0;32m   1192\u001b[0m \u001b[38;5;28;01mif\u001b[39;00m \u001b[38;5;129;01mnot\u001b[39;00m (\u001b[38;5;28mself\u001b[39m\u001b[38;5;241m.\u001b[39m_backward_hooks \u001b[38;5;129;01mor\u001b[39;00m \u001b[38;5;28mself\u001b[39m\u001b[38;5;241m.\u001b[39m_forward_hooks \u001b[38;5;129;01mor\u001b[39;00m \u001b[38;5;28mself\u001b[39m\u001b[38;5;241m.\u001b[39m_forward_pre_hooks \u001b[38;5;129;01mor\u001b[39;00m _global_backward_hooks\n\u001b[0;32m   1193\u001b[0m         \u001b[38;5;129;01mor\u001b[39;00m _global_forward_hooks \u001b[38;5;129;01mor\u001b[39;00m _global_forward_pre_hooks):\n\u001b[1;32m-> 1194\u001b[0m     \u001b[38;5;28;01mreturn\u001b[39;00m forward_call(\u001b[38;5;241m*\u001b[39m\u001b[38;5;28minput\u001b[39m, \u001b[38;5;241m*\u001b[39m\u001b[38;5;241m*\u001b[39mkwargs)\n\u001b[0;32m   1195\u001b[0m \u001b[38;5;66;03m# Do not call functions when jit is used\u001b[39;00m\n\u001b[0;32m   1196\u001b[0m full_backward_hooks, non_full_backward_hooks \u001b[38;5;241m=\u001b[39m [], []\n",
            "Cell \u001b[1;32mIn[27], line 40\u001b[0m, in \u001b[0;36mTDNN.forward\u001b[1;34m(self, x)\u001b[0m\n\u001b[0;32m     37\u001b[0m x \u001b[38;5;241m=\u001b[39m x\u001b[38;5;241m.\u001b[39munsqueeze(\u001b[38;5;241m1\u001b[39m)\n\u001b[0;32m     39\u001b[0m \u001b[38;5;66;03m# Unfold input into smaller temporal contexts\u001b[39;00m\n\u001b[1;32m---> 40\u001b[0m x \u001b[38;5;241m=\u001b[39m \u001b[43mF\u001b[49m\u001b[38;5;241;43m.\u001b[39;49m\u001b[43munfold\u001b[49m\u001b[43m(\u001b[49m\n\u001b[0;32m     41\u001b[0m \u001b[43m                \u001b[49m\u001b[43mx\u001b[49m\u001b[43m,\u001b[49m\n\u001b[0;32m     42\u001b[0m \u001b[43m                \u001b[49m\u001b[43m(\u001b[49m\u001b[38;5;28;43mself\u001b[39;49m\u001b[38;5;241;43m.\u001b[39;49m\u001b[43mcontext_size\u001b[49m\u001b[43m,\u001b[49m\u001b[43m \u001b[49m\u001b[38;5;28;43mself\u001b[39;49m\u001b[38;5;241;43m.\u001b[39;49m\u001b[43minput_dim\u001b[49m\u001b[43m)\u001b[49m\u001b[43m,\u001b[49m\n\u001b[0;32m     43\u001b[0m \u001b[43m                \u001b[49m\u001b[43mstride\u001b[49m\u001b[38;5;241;43m=\u001b[39;49m\u001b[43m(\u001b[49m\u001b[38;5;241;43m1\u001b[39;49m\u001b[43m,\u001b[49m\u001b[38;5;28;43mself\u001b[39;49m\u001b[38;5;241;43m.\u001b[39;49m\u001b[43minput_dim\u001b[49m\u001b[43m)\u001b[49m\u001b[43m,\u001b[49m\n\u001b[0;32m     44\u001b[0m \u001b[43m                \u001b[49m\u001b[43mdilation\u001b[49m\u001b[38;5;241;43m=\u001b[39;49m\u001b[43m(\u001b[49m\u001b[38;5;28;43mself\u001b[39;49m\u001b[38;5;241;43m.\u001b[39;49m\u001b[43mdilation\u001b[49m\u001b[43m,\u001b[49m\u001b[38;5;241;43m1\u001b[39;49m\u001b[43m)\u001b[49m\n\u001b[0;32m     45\u001b[0m \u001b[43m            \u001b[49m\u001b[43m)\u001b[49m\n\u001b[0;32m     47\u001b[0m \u001b[38;5;66;03m# N, output_dim*context_size, new_t = x.shape\u001b[39;00m\n\u001b[0;32m     48\u001b[0m x \u001b[38;5;241m=\u001b[39m x\u001b[38;5;241m.\u001b[39mtranspose(\u001b[38;5;241m1\u001b[39m,\u001b[38;5;241m2\u001b[39m)\n",
            "File \u001b[1;32mc:\\Users\\admin\\AppData\\Local\\Programs\\Python\\Python310\\lib\\site-packages\\torch\\nn\\functional.py:4669\u001b[0m, in \u001b[0;36munfold\u001b[1;34m(input, kernel_size, dilation, padding, stride)\u001b[0m\n\u001b[0;32m   4665\u001b[0m \u001b[38;5;28;01mif\u001b[39;00m has_torch_function_unary(\u001b[38;5;28minput\u001b[39m):\n\u001b[0;32m   4666\u001b[0m     \u001b[38;5;28;01mreturn\u001b[39;00m handle_torch_function(\n\u001b[0;32m   4667\u001b[0m         unfold, (\u001b[38;5;28minput\u001b[39m,), \u001b[38;5;28minput\u001b[39m, kernel_size, dilation\u001b[38;5;241m=\u001b[39mdilation, padding\u001b[38;5;241m=\u001b[39mpadding, stride\u001b[38;5;241m=\u001b[39mstride\n\u001b[0;32m   4668\u001b[0m     )\n\u001b[1;32m-> 4669\u001b[0m \u001b[38;5;28;01mreturn\u001b[39;00m \u001b[43mtorch\u001b[49m\u001b[38;5;241;43m.\u001b[39;49m\u001b[43m_C\u001b[49m\u001b[38;5;241;43m.\u001b[39;49m\u001b[43m_nn\u001b[49m\u001b[38;5;241;43m.\u001b[39;49m\u001b[43mim2col\u001b[49m\u001b[43m(\u001b[49m\u001b[38;5;28;43minput\u001b[39;49m\u001b[43m,\u001b[49m\u001b[43m \u001b[49m\u001b[43m_pair\u001b[49m\u001b[43m(\u001b[49m\u001b[43mkernel_size\u001b[49m\u001b[43m)\u001b[49m\u001b[43m,\u001b[49m\u001b[43m \u001b[49m\u001b[43m_pair\u001b[49m\u001b[43m(\u001b[49m\u001b[43mdilation\u001b[49m\u001b[43m)\u001b[49m\u001b[43m,\u001b[49m\u001b[43m \u001b[49m\u001b[43m_pair\u001b[49m\u001b[43m(\u001b[49m\u001b[43mpadding\u001b[49m\u001b[43m)\u001b[49m\u001b[43m,\u001b[49m\u001b[43m \u001b[49m\u001b[43m_pair\u001b[49m\u001b[43m(\u001b[49m\u001b[43mstride\u001b[49m\u001b[43m)\u001b[49m\u001b[43m)\u001b[49m\n",
            "\u001b[1;31mKeyboardInterrupt\u001b[0m: "
          ]
        }
      ],
      "source": [
        "#Model training and testing\n",
        "n_total_steps = len(train_dataloader) # n_total_steps * batch size will give total number of training files (consider that last batch may not be fully filled)\n",
        "train_accuracy_list = []\n",
        "val_accuracy_list = []\n",
        "train_loss_list = []\n",
        "test_accuracy_list = []\n",
        "max_acc=0\n",
        "num_epochs = 40\n",
        "pred_labels =[]\n",
        "act_labels = []\n",
        "\n",
        "for epoch in range(num_epochs):\n",
        "\n",
        "    #Evaluation and training on training dataset\n",
        "    model.train()\n",
        "    train_accuracy=0.0\n",
        "    train_loss=0.0\n",
        "\n",
        "    for batch_idx, (images,labels) in enumerate(train_dataloader):\n",
        "        if torch.cuda.is_available():\n",
        "            images=Variable(images.cuda())\n",
        "            labels=Variable(labels.cuda())\n",
        "        ##images = images.unsqueeze(1)\n",
        "        optimizer.zero_grad()\n",
        "        outputs=model(images)\n",
        "        outputs=outputs[0]\n",
        "        loss=loss_function(outputs,labels)\n",
        "        loss.backward()\n",
        "        optimizer.step()\n",
        "\n",
        "\n",
        "        train_loss+= loss.cpu().data*images.size(0)\n",
        "        _,prediction=torch.max(outputs.data,1)\n",
        "\n",
        "        train_accuracy+=int(torch.sum(prediction==labels.data))\n",
        "\n",
        "    train_accuracy=train_accuracy/train_count\n",
        "    train_loss=train_loss/train_count\n",
        "\n",
        "    train_accuracy_list.append(train_accuracy)\n",
        "    train_loss_list.append(train_loss)\n",
        "\n",
        "\n",
        "    # Evaluation on testing dataset\n",
        "    model.eval()\n",
        "    val_accuracy=0.0\n",
        "    pred = []\n",
        "    lab = []\n",
        "\n",
        "    for i, (images,labels) in enumerate(val_dataloader):\n",
        "        if torch.cuda.is_available():\n",
        "            images=Variable(images.cuda())\n",
        "            labels=Variable(labels.cuda())\n",
        "        ##images = images.unsqueeze(1)\n",
        "#         print(i,images.shape)\n",
        "        outputs=model(images)\n",
        "        outputs=outputs[0]\n",
        "        _,prediction=torch.max(outputs.data,1)\n",
        "        val_accuracy+=int(torch.sum(prediction==labels.data))\n",
        "\n",
        "        pred.extend(prediction.tolist())\n",
        "        lab.extend(labels.tolist())\n",
        "\n",
        "    val_accuracy=val_accuracy/val_count\n",
        "    val_accuracy_list.append(val_accuracy)\n",
        "    if max_acc < val_accuracy:\n",
        "        max_acc = val_accuracy\n",
        "        pred_labels = pred\n",
        "        actual_labels = lab\n",
        "        max_acc = val_accuracy\n",
        "        torch.save(model,\"best_accuracy_model.pth\")\n",
        "    print('Epoch : '+str(epoch+1)+'/'+str(num_epochs)+'   Train Loss : '+str(train_loss)+'   Train Accuracy : '+str(train_accuracy)+'   Val Accuracy : '+str(val_accuracy))\n",
        "print(max_acc)\n",
        "print('Finished Training and Testing')"
      ]
    },
    {
      "cell_type": "code",
      "execution_count": null,
      "id": "29fc1ee8",
      "metadata": {
        "execution": {
          "iopub.execute_input": "2023-06-24T17:51:47.091045Z",
          "iopub.status.busy": "2023-06-24T17:51:47.090047Z",
          "iopub.status.idle": "2023-06-24T17:51:47.124249Z",
          "shell.execute_reply": "2023-06-24T17:51:47.123131Z"
        },
        "id": "29fc1ee8",
        "papermill": {
          "duration": 0.053436,
          "end_time": "2023-06-24T17:51:47.127164",
          "exception": false,
          "start_time": "2023-06-24T17:51:47.073728",
          "status": "completed"
        },
        "tags": []
      },
      "outputs": [],
      "source": [
        "torch.save(model,'mfcc_lfcc_tdnn_120.pth')"
      ]
    },
    {
      "cell_type": "code",
      "execution_count": null,
      "id": "d157cf04",
      "metadata": {
        "execution": {
          "iopub.execute_input": "2023-06-24T17:51:47.159868Z",
          "iopub.status.busy": "2023-06-24T17:51:47.159534Z",
          "iopub.status.idle": "2023-06-24T17:51:47.513528Z",
          "shell.execute_reply": "2023-06-24T17:51:47.512479Z"
        },
        "id": "d157cf04",
        "outputId": "80f8cfd6-ae09-476f-93ce-5ab9d5bdd212",
        "papermill": {
          "duration": 0.37381,
          "end_time": "2023-06-24T17:51:47.516502",
          "exception": false,
          "start_time": "2023-06-24T17:51:47.142692",
          "status": "completed"
        },
        "tags": []
      },
      "outputs": [
        {
          "data": {
            "image/png": "[encoded data removed]",
            "text/plain": [
              "<Figure size 640x480 with 1 Axes>"
            ]
          },
          "metadata": {},
          "output_type": "display_data"
        }
      ],
      "source": [
        "plt.plot(train_accuracy_list, label='Train Accuracy')\n",
        "plt.plot(test_accuracy_list, label='Test Accuracy')\n",
        "\n",
        "plt.xlabel('Epoch')\n",
        "plt.ylabel('Accuracy')\n",
        "plt.title('Train and Test Accuracy')\n",
        "plt.legend()\n",
        "plt.savefig(\"TrainVsTest.png\")\n",
        "plt.show()"
      ]
    },
    {
      "cell_type": "code",
      "execution_count": null,
      "id": "4e4fe796",
      "metadata": {
        "execution": {
          "iopub.execute_input": "2023-06-24T17:51:47.550577Z",
          "iopub.status.busy": "2023-06-24T17:51:47.550251Z",
          "iopub.status.idle": "2023-06-24T17:51:47.554541Z",
          "shell.execute_reply": "2023-06-24T17:51:47.553520Z"
        },
        "id": "4e4fe796",
        "papermill": {
          "duration": 0.023849,
          "end_time": "2023-06-24T17:51:47.556901",
          "exception": false,
          "start_time": "2023-06-24T17:51:47.533052",
          "status": "completed"
        },
        "tags": []
      },
      "outputs": [],
      "source": [
        "# print(\"80 epoch accuracy:  Train Accuracy : 0.909472161966739   Test Accuracy : 0.8234387047031612\")\n",
        "# print(\"100 epoch accuracy: Train Accuracy : 0.9417208966015908   Test Accuracy : 0.8018504240555128\")\n",
        "# print(\"120 epoch accuracy: Train Accuracy : 0.9550735116895638   Test Accuracy : 0.8311488049344642\")\n",
        "# print(\" 140 epoch Train Accuracy : 0.9488069414316703   Test Accuracy : 0.8496530454895914\")"
      ]
    },
    {
      "cell_type": "code",
      "execution_count": null,
      "id": "0f1e85d1",
      "metadata": {
        "execution": {
          "iopub.execute_input": "2023-06-24T17:51:47.590341Z",
          "iopub.status.busy": "2023-06-24T17:51:47.590042Z",
          "iopub.status.idle": "2023-06-24T17:51:48.202784Z",
          "shell.execute_reply": "2023-06-24T17:51:48.201488Z"
        },
        "id": "0f1e85d1",
        "outputId": "36c4f09d-7d48-42d2-b47a-070c64fbd4ac",
        "papermill": {
          "duration": 0.632621,
          "end_time": "2023-06-24T17:51:48.205549",
          "exception": false,
          "start_time": "2023-06-24T17:51:47.572928",
          "status": "completed"
        },
        "tags": []
      },
      "outputs": [
        {
          "data": {
            "image/png": "[encoded data removed]",
            "text/plain": [
              "<Figure size 640x480 with 2 Axes>"
            ]
          },
          "metadata": {},
          "output_type": "display_data"
        }
      ],
      "source": [
        "# Calculate the confusion matrix\n",
        "import seaborn as sns\n",
        "conf_mat = confusion_matrix(actual_labels, pred_labels)\n",
        "# Plot confusion matrix heat map\n",
        "sns.heatmap(conf_mat, cmap=\"flare\",annot=True, fmt = \"g\",\n",
        "            cbar_kws={\"label\":\"color bar\"},\n",
        "            xticklabels=train_dataset.classes,\n",
        "            yticklabels=train_dataset.classes)\n",
        "plt.xlabel(\"Predicted\")\n",
        "plt.ylabel(\"Actual\")\n",
        "plt.title(\"Confusion Matrix\")\n",
        "plt.savefig(\"ConfusionMatrix.png\")\n",
        "plt.show()"
      ]
    },
    {
      "cell_type": "code",
      "execution_count": null,
      "id": "f1e5b9e3",
      "metadata": {
        "execution": {
          "iopub.execute_input": "2023-06-24T17:51:48.244897Z",
          "iopub.status.busy": "2023-06-24T17:51:48.244538Z",
          "iopub.status.idle": "2023-06-24T17:51:48.249636Z",
          "shell.execute_reply": "2023-06-24T17:51:48.248315Z"
        },
        "id": "f1e5b9e3",
        "papermill": {
          "duration": 0.027565,
          "end_time": "2023-06-24T17:51:48.252402",
          "exception": false,
          "start_time": "2023-06-24T17:51:48.224837",
          "status": "completed"
        },
        "tags": []
      },
      "outputs": [],
      "source": [
        "# f1 = f1_score(actual_labels, pred_labels, average='weighted')\n",
        "# jaccard = jaccard_score(actual_labels, pred_labels, average='weighted')\n",
        "# mcc = matthews_corrcoef(actual_labels, pred_labels)\n",
        "# hloss = hamming_loss(actual_labels, pred_labels)\n",
        "\n",
        "# print(f1)\n",
        "# print(jaccard)\n",
        "# print(mcc)\n",
        "# print(hloss)"
      ]
    }
  ],
  "metadata": {
    "colab": {
      "provenance": []
    },
    "kernelspec": {
      "display_name": "Python 3",
      "language": "python",
      "name": "python3"
    },
    "language_info": {
      "codemirror_mode": {
        "name": "ipython",
        "version": 3
      },
      "file_extension": ".py",
      "mimetype": "text/x-python",
      "name": "python",
      "nbconvert_exporter": "python",
      "pygments_lexer": "ipython3",
      "version": "3.10.7"
    },
    "papermill": {
      "default_parameters": {},
      "duration": 26846.405944,
      "end_time": "2023-06-24T17:51:49.682878",
      "environment_variables": {},
      "exception": null,
      "input_path": "__notebook__.ipynb",
      "output_path": "__notebook__.ipynb",
      "parameters": {},
      "start_time": "2023-06-24T10:24:23.276934",
      "version": "2.4.0"
    }
  },
  "nbformat": 4,
  "nbformat_minor": 5
}
