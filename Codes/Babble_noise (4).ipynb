{
 "cells": [
  {
   "cell_type": "code",
   "execution_count": 14,
   "metadata": {},
   "outputs": [],
   "source": [
    "import os\n",
    "import numpy as np\n",
    "import librosa\n",
    "from scipy.io.wavfile import write\n"
   ]
  },
  {
   "cell_type": "code",
   "execution_count": 15,
   "metadata": {},
   "outputs": [],
   "source": [
    "data2_path_train = r\"C:\\Users\\admin\\Desktop\\ARTH SHAH\\MGDCC\\FoR_norm\\for-norm\\training\"\n",
    "data2_path_valid = r\"C:\\Users\\admin\\Desktop\\ARTH SHAH\\MGDCC\\FoR_norm\\for-norm\\validation\"\n",
    "data2_path_test = r\"C:\\Users\\admin\\Desktop\\ARTH SHAH\\MGDCC\\FoR_norm\\for-norm\\testing\"\n",
    "\n",
    "data_src_list =  [data2_path_train, data2_path_valid, data2_path_test]  # "
   ]
  },
  {
   "cell_type": "code",
   "execution_count": 16,
   "metadata": {},
   "outputs": [],
   "source": [
    "data2_save_path_train = r\"C:\\Users\\admin\\Desktop\\ARTH SHAH\\MGDCC\\FoR_norm\\noise\\hf\\10dB\\train\"\n",
    "data2_save_path_valid = r\"C:\\Users\\admin\\Desktop\\ARTH SHAH\\MGDCC\\FoR_norm\\noise\\hf\\10dB\\val\"\n",
    "data2_save_path_test =  r\"C:\\Users\\admin\\Desktop\\ARTH SHAH\\MGDCC\\FoR_norm\\noise\\hf\\10dB\\test\"\n",
    "\n",
    "data_dst_list = [ data2_save_path_train, data2_save_path_valid, data2_save_path_test]  #[data1_save_path_train, data1_save_path_test,"
   ]
  },
  {
   "attachments": {},
   "cell_type": "markdown",
   "metadata": {},
   "source": [
    "### Give the value of SNR dB here "
   ]
  },
  {
   "cell_type": "code",
   "execution_count": 17,
   "metadata": {},
   "outputs": [],
   "source": [
    "SNR = 10 # desired SNR in dB"
   ]
  },
  {
   "cell_type": "code",
   "execution_count": 18,
   "metadata": {},
   "outputs": [],
   "source": [
    "noise, noise_sample_rate = librosa.load(r\"C:\\Users\\admin\\Desktop\\ARTH SHAH\\MGDCC\\FoR_norm\\noise\\hf.wav\", sr=16000)"
   ]
  },
  {
   "attachments": {},
   "cell_type": "markdown",
   "metadata": {},
   "source": [
    "### Code to save the noisy audio files "
   ]
  },
  {
   "cell_type": "code",
   "execution_count": 19,
   "metadata": {},
   "outputs": [],
   "source": [
    "max_length = 30*16000   #max audio length is 30 seconds\n",
    "\n",
    "\n",
    "for src_path, dst_path in zip(data_src_list, data_dst_list):\n",
    "\n",
    "    subfolders = [f.path for f in os.scandir(src_path) if f.is_dir()]\n",
    "\n",
    "    for subfolder in subfolders:\n",
    "        subfolder_name = os.path.basename(subfolder) \n",
    "        subfolder_path = os.path.join(src_path, subfolder_name) \n",
    "\n",
    "        save_subfolder_path = os.path.join(dst_path, subfolder_name) \n",
    "        os.mkdir(save_subfolder_path)\n",
    "\n",
    "        for file in os.listdir(subfolder_path):\n",
    "            file_path = os.path.join(subfolder_path, file)\n",
    "            file_name = file\n",
    "\n",
    "            try:\n",
    "                audio, sample_rate = librosa.load(file_path, sr=16000)\n",
    "            except:\n",
    "                continue\n",
    "\n",
    "            if len(audio) > max_length:\n",
    "                audio = audio[:max_length]\n",
    "\n",
    "            signal_power = np.sum(audio ** 2) / len(audio)\n",
    "            noise_power = np.sum(noise ** 2) / len(noise)\n",
    "            noise_amplitude = np.sqrt(signal_power / (noise_power * 10 ** (SNR / 10)))\n",
    "\n",
    "            try:\n",
    "                start = np.random.randint(0, noise.shape[0] - audio.shape[0])\n",
    "            except:\n",
    "                continue\n",
    "\n",
    "            noise_segment = noise[start:start + audio.shape[0]]\n",
    "\n",
    "            audio_with_noise = audio + noise_amplitude * noise_segment\n",
    "\n",
    "            output_path = os.path.join(save_subfolder_path, file_name)\n",
    "            write(output_path, sample_rate, audio_with_noise)\n",
    "\n",
    "            "
   ]
  }
 ],
 "metadata": {
  "kernelspec": {
   "display_name": "base",
   "language": "python",
   "name": "python3"
  },
  "language_info": {
   "codemirror_mode": {
    "name": "ipython",
    "version": 3
   },
   "file_extension": ".py",
   "mimetype": "text/x-python",
   "name": "python",
   "nbconvert_exporter": "python",
   "pygments_lexer": "ipython3",
   "version": "3.10.7"
  },
  "orig_nbformat": 4
 },
 "nbformat": 4,
 "nbformat_minor": 2
}
